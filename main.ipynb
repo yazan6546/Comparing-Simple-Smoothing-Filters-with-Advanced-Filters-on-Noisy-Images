{
  "cells": [
    {
      "cell_type": "code",
      "execution_count": 10,
      "id": "initial_id",
      "metadata": {
        "collapsed": true,
        "id": "initial_id"
      },
      "outputs": [],
      "source": [
        "from google.colab.patches import cv2_imshow\n",
        "import cv2\n",
        "import numpy as np\n",
        "import matplotlib.pyplot as plt\n",
        "import tensorflow_datasets as tfds\n",
        "import image_processing as noise\n",
        "import visualization as vis\n",
        "import pandas as pd\n",
        "import utilities as utils"
      ]
    },
    {
      "cell_type": "code",
      "source": [],
      "metadata": {
        "id": "VqYzoLiOLMcE"
      },
      "id": "VqYzoLiOLMcE",
      "execution_count": 10,
      "outputs": []
    },
    {
      "cell_type": "markdown",
      "source": [
        "erge"
      ],
      "metadata": {
        "id": "lBIPpFp8CEwk"
      },
      "id": "lBIPpFp8CEwk"
    },
    {
      "cell_type": "code",
      "source": [
        "%%writefile utilities.py\n",
        "import image_processing as noise\n",
        "\n",
        "def create_dataframe_image(original_image):\n",
        "  # Define noise parameters\n",
        "\n",
        "\n",
        "  gaussian_std = [5, 25, 75]\n",
        "  salt_pepper_probs  = [0.05, 0.25, 0.5]\n",
        "\n",
        "  # Create lists for DataFrame\n",
        "  index = []\n",
        "  noisy_images = []\n",
        "\n",
        "  index.append('no_noise')\n",
        "  noisy_images.append(original_image)\n",
        "\n",
        "  # Apply Gaussian noise with different variances\n",
        "  for sigma in gaussian_std:\n",
        "      noisy_img = noise.add_gaussian_noise(original_image, sigma=sigma)\n",
        "      index.append(f'Gaussian_Noise_sigma_{sigma}')\n",
        "      noisy_images.append(noisy_img)\n",
        "\n",
        "  # Apply Salt-and-Pepper noise with different probabilities\n",
        "  for prob in salt_pepper_probs:\n",
        "      noisy_img = noise.add_salt_and_pepper_noise(original_image, prob=prob)\n",
        "      index.append(f'Salt_and_Pepper_prob_{prob}')\n",
        "      noisy_images.append(noisy_img)\n",
        "\n",
        "  # Create DataFrame\n",
        "  df = pd.DataFrame({'Noise_Type': index, 'Image': noisy_images}).set_index('Noise_Type')\n",
        "  return df"
      ],
      "metadata": {
        "id": "u3zHCqAvFP6n",
        "outputId": "fa6eb4ce-1455-4dbf-fec2-4796e1e6fd90",
        "colab": {
          "base_uri": "https://localhost:8080/"
        }
      },
      "id": "u3zHCqAvFP6n",
      "execution_count": 11,
      "outputs": [
        {
          "output_type": "stream",
          "name": "stdout",
          "text": [
            "Overwriting utilities.py\n"
          ]
        }
      ]
    },
    {
      "cell_type": "code",
      "source": [
        "list_of_images = []\n",
        "\n",
        "# Load a dataset (example: MNIST)\n",
        "dataset = tfds.load('tf_flowers', split='train')\n",
        "\n",
        "# Iterate over images\n",
        "for images in dataset.take(5):  # Taking first 10 images for example\n",
        "    image = images['image']\n",
        "    # Convert from RGB to Grayscale using OpenCV\n",
        "    image_gray = cv2.cvtColor(image.numpy(), cv2.COLOR_RGB2GRAY)\n",
        "    list_of_images.append(image_gray)"
      ],
      "metadata": {
        "id": "3GXPjy0eCFMb"
      },
      "id": "3GXPjy0eCFMb",
      "execution_count": 12,
      "outputs": []
    },
    {
      "cell_type": "code",
      "source": [
        "dataframes = []\n",
        "\n",
        "for image in list_of_images:\n",
        "    df = utils.create_dataframe_image(image)\n",
        "    dataframes.append(df)\n",
        "\n",
        "ex = dataframes[0].loc['Salt_and_Pepper_prob_0.05', 'Image']\n",
        "cv2_imshow(ex)"
      ],
      "metadata": {
        "id": "fG8qeiZjFki4",
        "outputId": "bf22c55a-890d-421b-8594-cb8cd84f23ea",
        "colab": {
          "base_uri": "https://localhost:8080/",
          "height": 332
        }
      },
      "id": "fG8qeiZjFki4",
      "execution_count": 13,
      "outputs": [
        {
          "output_type": "error",
          "ename": "NameError",
          "evalue": "name 'noise' is not defined",
          "traceback": [
            "\u001b[0;31m---------------------------------------------------------------------------\u001b[0m",
            "\u001b[0;31mNameError\u001b[0m                                 Traceback (most recent call last)",
            "\u001b[0;32m<ipython-input-13-9c476f39b33e>\u001b[0m in \u001b[0;36m<cell line: 3>\u001b[0;34m()\u001b[0m\n\u001b[1;32m      2\u001b[0m \u001b[0;34m\u001b[0m\u001b[0m\n\u001b[1;32m      3\u001b[0m \u001b[0;32mfor\u001b[0m \u001b[0mimage\u001b[0m \u001b[0;32min\u001b[0m \u001b[0mlist_of_images\u001b[0m\u001b[0;34m:\u001b[0m\u001b[0;34m\u001b[0m\u001b[0;34m\u001b[0m\u001b[0m\n\u001b[0;32m----> 4\u001b[0;31m     \u001b[0mdf\u001b[0m \u001b[0;34m=\u001b[0m \u001b[0mutils\u001b[0m\u001b[0;34m.\u001b[0m\u001b[0mcreate_dataframe_image\u001b[0m\u001b[0;34m(\u001b[0m\u001b[0mimage\u001b[0m\u001b[0;34m)\u001b[0m\u001b[0;34m\u001b[0m\u001b[0;34m\u001b[0m\u001b[0m\n\u001b[0m\u001b[1;32m      5\u001b[0m     \u001b[0mdataframes\u001b[0m\u001b[0;34m.\u001b[0m\u001b[0mappend\u001b[0m\u001b[0;34m(\u001b[0m\u001b[0mdf\u001b[0m\u001b[0;34m)\u001b[0m\u001b[0;34m\u001b[0m\u001b[0;34m\u001b[0m\u001b[0m\n\u001b[1;32m      6\u001b[0m \u001b[0;34m\u001b[0m\u001b[0m\n",
            "\u001b[0;32m/content/utilities.py\u001b[0m in \u001b[0;36mcreate_dataframe_image\u001b[0;34m(original_image)\u001b[0m\n\u001b[1;32m     15\u001b[0m   \u001b[0mnoisy_images\u001b[0m\u001b[0;34m.\u001b[0m\u001b[0mappend\u001b[0m\u001b[0;34m(\u001b[0m\u001b[0moriginal_image\u001b[0m\u001b[0;34m)\u001b[0m\u001b[0;34m\u001b[0m\u001b[0;34m\u001b[0m\u001b[0m\n\u001b[1;32m     16\u001b[0m \u001b[0;34m\u001b[0m\u001b[0m\n\u001b[0;32m---> 17\u001b[0;31m   \u001b[0;31m# Apply Gaussian noise with different variances\u001b[0m\u001b[0;34m\u001b[0m\u001b[0;34m\u001b[0m\u001b[0m\n\u001b[0m\u001b[1;32m     18\u001b[0m   \u001b[0;32mfor\u001b[0m \u001b[0msigma\u001b[0m \u001b[0;32min\u001b[0m \u001b[0mgaussian_std\u001b[0m\u001b[0;34m:\u001b[0m\u001b[0;34m\u001b[0m\u001b[0;34m\u001b[0m\u001b[0m\n\u001b[1;32m     19\u001b[0m       \u001b[0mnoisy_img\u001b[0m \u001b[0;34m=\u001b[0m \u001b[0mnoise\u001b[0m\u001b[0;34m.\u001b[0m\u001b[0madd_gaussian_noise\u001b[0m\u001b[0;34m(\u001b[0m\u001b[0moriginal_image\u001b[0m\u001b[0;34m,\u001b[0m \u001b[0msigma\u001b[0m\u001b[0;34m=\u001b[0m\u001b[0msigma\u001b[0m\u001b[0;34m)\u001b[0m\u001b[0;34m\u001b[0m\u001b[0;34m\u001b[0m\u001b[0m\n",
            "\u001b[0;31mNameError\u001b[0m: name 'noise' is not defined"
          ]
        }
      ]
    },
    {
      "cell_type": "code",
      "source": [],
      "metadata": {
        "id": "Y6bGrYSYKlmj"
      },
      "id": "Y6bGrYSYKlmj",
      "execution_count": 4,
      "outputs": []
    }
  ],
  "metadata": {
    "kernelspec": {
      "display_name": "Python 3",
      "language": "python",
      "name": "python3"
    },
    "language_info": {
      "codemirror_mode": {
        "name": "ipython",
        "version": 2
      },
      "file_extension": ".py",
      "mimetype": "text/x-python",
      "name": "python",
      "nbconvert_exporter": "python",
      "pygments_lexer": "ipython2",
      "version": "2.7.6"
    },
    "colab": {
      "provenance": []
    }
  },
  "nbformat": 4,
  "nbformat_minor": 5
}