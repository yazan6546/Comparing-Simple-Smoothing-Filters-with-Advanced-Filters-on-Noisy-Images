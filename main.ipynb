{
  "cells": [
    {
      "cell_type": "code",
      "execution_count": 1,
      "id": "initial_id",
      "metadata": {
        "collapsed": true,
        "id": "initial_id"
      },
      "outputs": [],
      "source": [
        "from google.colab.patches import cv2_imshow\n",
        "import cv2\n",
        "import numpy as np\n",
        "import matplotlib.pyplot as plt\n",
        "import tensorflow_datasets as tfds\n",
        "import visualization as vis\n",
        "import utilities as utils"
      ]
    },
    {
      "cell_type": "code",
      "source": [],
      "metadata": {
        "id": "VqYzoLiOLMcE"
      },
      "id": "VqYzoLiOLMcE",
      "execution_count": 1,
      "outputs": []
    },
    {
      "cell_type": "markdown",
      "source": [
        "erge"
      ],
      "metadata": {
        "id": "lBIPpFp8CEwk"
      },
      "id": "lBIPpFp8CEwk"
    },
    {
      "cell_type": "code",
      "source": [
        "%%writefile utilities.py\n",
        "import image_processing as ip\n",
        "import pandas as pd\n",
        "\n",
        "def create_dataframe_image(original_image):\n",
        "  # Define noise parameters\n",
        "\n",
        "\n",
        "  gaussian_std = [5, 25, 75]\n",
        "  salt_pepper_probs  = [0.05, 0.25, 0.5]\n",
        "\n",
        "  # Create lists for DataFrame\n",
        "  index = []\n",
        "  noisy_images = []\n",
        "\n",
        "  index.append('no_noise')\n",
        "  noisy_images.append(original_image)\n",
        "\n",
        "  # Apply Gaussian noise with different variances\n",
        "  for sigma in gaussian_std:\n",
        "      noisy_img = ip.add_gaussian_noise(original_image, sigma=sigma)\n",
        "      index.append(f'Gaussian_Noise_sigma_{sigma}')\n",
        "      noisy_images.append(noisy_img)\n",
        "\n",
        "  # Apply Salt-and-Pepper noise with different probabilities\n",
        "  for prob in salt_pepper_probs:\n",
        "      noisy_img = ip.add_salt_and_pepper_noise(original_image, prob=prob)\n",
        "      index.append(f'Salt_and_Pepper_prob_{prob}')\n",
        "      noisy_images.append(noisy_img)\n",
        "\n",
        "  # Create DataFrame\n",
        "  df = pd.DataFrame({'Noise_Type': index, 'Image': noisy_images}).set_index('Noise_Type')\n",
        "  return df"
      ],
      "metadata": {
        "colab": {
          "base_uri": "https://localhost:8080/"
        },
        "id": "u3zHCqAvFP6n",
        "outputId": "764bd761-a728-4d8e-d142-d479f7f63e0d"
      },
      "id": "u3zHCqAvFP6n",
      "execution_count": 2,
      "outputs": [
        {
          "output_type": "stream",
          "name": "stdout",
          "text": [
            "Overwriting utilities.py\n"
          ]
        }
      ]
    },
    {
      "cell_type": "code",
      "source": [
        "list_of_images = []\n",
        "\n",
        "# Load a dataset (example: MNIST)\n",
        "dataset = tfds.load('tf_flowers', split='train')\n",
        "\n",
        "# Iterate over images\n",
        "for images in dataset.take(5):  # Taking first 10 images for example\n",
        "    image = images['image']\n",
        "    # Convert from RGB to Grayscale using OpenCV\n",
        "    image_gray = cv2.cvtColor(image.numpy(), cv2.COLOR_RGB2GRAY)\n",
        "    list_of_images.append(image_gray)"
      ],
      "metadata": {
        "id": "3GXPjy0eCFMb"
      },
      "id": "3GXPjy0eCFMb",
      "execution_count": 3,
      "outputs": []
    },
    {
      "cell_type": "code",
      "source": [
        "dataframes = []\n",
        "\n",
        "for image in list_of_images:\n",
        "    df = utils.create_dataframe_image(image)\n",
        "    dataframes.append(df)\n",
        "\n",
        "ex = dataframes[4].loc['Gaussian_Noise_sigma_25', 'Image']\n",
        "cv2_imshow(ex)"
      ],
      "metadata": {
        "colab": {
          "base_uri": "https://localhost:8080/",
          "height": 211
        },
        "id": "fG8qeiZjFki4",
        "outputId": "364a9ceb-b46d-4d64-d99a-4c39e4cd261f"
      },
      "id": "fG8qeiZjFki4",
      "execution_count": 1,
      "outputs": [
        {
          "output_type": "error",
          "ename": "NameError",
          "evalue": "name 'list_of_images' is not defined",
          "traceback": [
            "\u001b[0;31m---------------------------------------------------------------------------\u001b[0m",
            "\u001b[0;31mNameError\u001b[0m                                 Traceback (most recent call last)",
            "\u001b[0;32m<ipython-input-1-41ccad68650f>\u001b[0m in \u001b[0;36m<cell line: 3>\u001b[0;34m()\u001b[0m\n\u001b[1;32m      1\u001b[0m \u001b[0mdataframes\u001b[0m \u001b[0;34m=\u001b[0m \u001b[0;34m[\u001b[0m\u001b[0;34m]\u001b[0m\u001b[0;34m\u001b[0m\u001b[0;34m\u001b[0m\u001b[0m\n\u001b[1;32m      2\u001b[0m \u001b[0;34m\u001b[0m\u001b[0m\n\u001b[0;32m----> 3\u001b[0;31m \u001b[0;32mfor\u001b[0m \u001b[0mimage\u001b[0m \u001b[0;32min\u001b[0m \u001b[0mlist_of_images\u001b[0m\u001b[0;34m:\u001b[0m\u001b[0;34m\u001b[0m\u001b[0;34m\u001b[0m\u001b[0m\n\u001b[0m\u001b[1;32m      4\u001b[0m     \u001b[0mdf\u001b[0m \u001b[0;34m=\u001b[0m \u001b[0mutils\u001b[0m\u001b[0;34m.\u001b[0m\u001b[0mcreate_dataframe_image\u001b[0m\u001b[0;34m(\u001b[0m\u001b[0mimage\u001b[0m\u001b[0;34m)\u001b[0m\u001b[0;34m\u001b[0m\u001b[0;34m\u001b[0m\u001b[0m\n\u001b[1;32m      5\u001b[0m     \u001b[0mdataframes\u001b[0m\u001b[0;34m.\u001b[0m\u001b[0mappend\u001b[0m\u001b[0;34m(\u001b[0m\u001b[0mdf\u001b[0m\u001b[0;34m)\u001b[0m\u001b[0;34m\u001b[0m\u001b[0;34m\u001b[0m\u001b[0m\n",
            "\u001b[0;31mNameError\u001b[0m: name 'list_of_images' is not defined"
          ]
        }
      ]
    },
    {
      "cell_type": "code",
      "source": [],
      "metadata": {
        "id": "Y6bGrYSYKlmj"
      },
      "id": "Y6bGrYSYKlmj",
      "execution_count": 4,
      "outputs": []
    }
  ],
  "metadata": {
    "kernelspec": {
      "display_name": "Python 3",
      "language": "python",
      "name": "python3"
    },
    "language_info": {
      "codemirror_mode": {
        "name": "ipython",
        "version": 2
      },
      "file_extension": ".py",
      "mimetype": "text/x-python",
      "name": "python",
      "nbconvert_exporter": "python",
      "pygments_lexer": "ipython2",
      "version": "2.7.6"
    },
    "colab": {
      "provenance": []
    }
  },
  "nbformat": 4,
  "nbformat_minor": 5
}