{
 "cells": [
  {
   "cell_type": "code",
   "execution_count": 2,
   "id": "initial_id",
   "metadata": {
    "id": "initial_id"
   },
   "outputs": [],
   "source": [
    "import cv2\n",
    "import numpy as np\n",
    "import matplotlib.pyplot as plt\n",
    "import visualization as vis\n",
    "import utilities as utils\n",
    "import os"
   ]
  },
  {
   "cell_type": "code",
   "execution_count": null,
   "id": "92b0c94e-414e-47cb-aad9-c9942d2dce03",
   "metadata": {
    "editable": true,
    "slideshow": {
     "slide_type": ""
    },
    "tags": []
   },
   "outputs": [],
   "source": [
    "def imshow(image):\n",
    "    \n",
    "    # Display the image in the notebook\n",
    "    plt.imshow(image, cmap='gray')\n",
    "    plt.axis('off')  # Hide axis\n",
    "    plt.show()"
   ]
  },
  {
   "cell_type": "markdown",
   "id": "lBIPpFp8CEwk",
   "metadata": {
    "id": "lBIPpFp8CEwk"
   },
   "source": [
    "erge"
   ]
  },
  {
   "cell_type": "code",
   "execution_count": 7,
   "id": "3GXPjy0eCFMb",
   "metadata": {
    "editable": true,
    "id": "3GXPjy0eCFMb",
    "slideshow": {
     "slide_type": ""
    },
    "tags": []
   },
   "outputs": [
    {
     "ename": "NameError",
     "evalue": "name 'imshow' is not defined",
     "output_type": "error",
     "traceback": [
      "\u001b[0;31m---------------------------------------------------------------------------\u001b[0m",
      "\u001b[0;31mNameError\u001b[0m                                 Traceback (most recent call last)",
      "Cell \u001b[0;32mIn[7], line 11\u001b[0m\n\u001b[1;32m      8\u001b[0m \u001b[38;5;66;03m# Convert from RGB to Grayscale using OpenCV\u001b[39;00m\n\u001b[1;32m      9\u001b[0m list_of_images\u001b[38;5;241m.\u001b[39mappend(image)\n\u001b[0;32m---> 11\u001b[0m \u001b[43mimshow\u001b[49m(image)\n",
      "\u001b[0;31mNameError\u001b[0m: name 'imshow' is not defined"
     ]
    }
   ],
   "source": [
    "list_of_images = []\n",
    "PATH = 'images'\n",
    "images_dir = os. listdir(PATH)\n",
    "\n",
    "# Iterate over images\n",
    "for images in images_dir:  # Taking first 10 images for example\n",
    "    image = cv2.imread(os.path.join(PATH, images))\n",
    "    # Convert from RGB to Grayscale using OpenCV\n",
    "    list_of_images.append(image)\n",
    "    \n",
    "    imshow(image)\n"
   ]
  },
  {
   "cell_type": "code",
   "execution_count": 4,
   "id": "fG8qeiZjFki4",
   "metadata": {
    "colab": {
     "base_uri": "https://localhost:8080/",
     "height": 211
    },
    "id": "fG8qeiZjFki4",
    "outputId": "364a9ceb-b46d-4d64-d99a-4c39e4cd261f"
   },
   "outputs": [
    {
     "ename": "error",
     "evalue": "OpenCV(4.10.0) :-1: error: (-5:Bad argument) in function 'imshow'\n> Overload resolution failed:\n>  - imshow() missing required argument 'mat' (pos 2)\n>  - imshow() missing required argument 'mat' (pos 2)\n>  - imshow() missing required argument 'mat' (pos 2)\n",
     "output_type": "error",
     "traceback": [
      "\u001b[0;31m---------------------------------------------------------------------------\u001b[0m",
      "\u001b[0;31merror\u001b[0m                                     Traceback (most recent call last)",
      "Cell \u001b[0;32mIn[4], line 8\u001b[0m\n\u001b[1;32m      5\u001b[0m     dataframes\u001b[38;5;241m.\u001b[39mappend(df)\n\u001b[1;32m      7\u001b[0m ex \u001b[38;5;241m=\u001b[39m dataframes[\u001b[38;5;241m4\u001b[39m]\u001b[38;5;241m.\u001b[39mloc[\u001b[38;5;124m'\u001b[39m\u001b[38;5;124mGaussian_Noise_sigma_25\u001b[39m\u001b[38;5;124m'\u001b[39m, \u001b[38;5;124m'\u001b[39m\u001b[38;5;124mImage\u001b[39m\u001b[38;5;124m'\u001b[39m]\n\u001b[0;32m----> 8\u001b[0m \u001b[43mcv2\u001b[49m\u001b[38;5;241;43m.\u001b[39;49m\u001b[43mimshow\u001b[49m\u001b[43m(\u001b[49m\u001b[43mex\u001b[49m\u001b[43m)\u001b[49m\n",
      "\u001b[0;31merror\u001b[0m: OpenCV(4.10.0) :-1: error: (-5:Bad argument) in function 'imshow'\n> Overload resolution failed:\n>  - imshow() missing required argument 'mat' (pos 2)\n>  - imshow() missing required argument 'mat' (pos 2)\n>  - imshow() missing required argument 'mat' (pos 2)\n"
     ]
    }
   ],
   "source": [
    "dataframes = []\n",
    "\n",
    "for image in list_of_images:\n",
    "    df = utils.create_dataframe_image(image)\n",
    "    dataframes.append(df)\n",
    "\n",
    "ex = dataframes[4].loc['Gaussian_Noise_sigma_25', 'Image']\n",
    "# Display the image in the notebook\n",
    "    plt.imshow(image, cmap='gray')\n",
    "    plt.axis('off')  # Hide axis\n",
    "    plt.show()"
   ]
  },
  {
   "cell_type": "code",
   "execution_count": 4,
   "id": "Y6bGrYSYKlmj",
   "metadata": {
    "id": "Y6bGrYSYKlmj"
   },
   "outputs": [],
   "source": []
  }
 ],
 "metadata": {
  "colab": {
   "provenance": []
  },
  "kernelspec": {
   "display_name": "Python 3 (ipykernel)",
   "language": "python",
   "name": "python3"
  },
  "language_info": {
   "codemirror_mode": {
    "name": "ipython",
    "version": 3
   },
   "file_extension": ".py",
   "mimetype": "text/x-python",
   "name": "python",
   "nbconvert_exporter": "python",
   "pygments_lexer": "ipython3",
   "version": "3.12.1"
  }
 },
 "nbformat": 4,
 "nbformat_minor": 5
}
